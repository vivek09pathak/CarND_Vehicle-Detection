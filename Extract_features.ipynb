{
 "cells": [
  {
   "cell_type": "code",
   "execution_count": 1,
   "metadata": {},
   "outputs": [],
   "source": [
    "import numpy as np\n",
    "import pandas as pd\n",
    "import glob\n",
    "import matplotlib.pyplot as plt\n",
    "import cv2\n",
    "import matplotlib.image as mpimg"
   ]
  },
  {
   "cell_type": "code",
   "execution_count": 2,
   "metadata": {},
   "outputs": [],
   "source": [
    "def spatial_bin(img,size=(32,32)):\n",
    "    \n",
    "    return cv2.resize(img,size).ravel()"
   ]
  },
  {
   "cell_type": "code",
   "execution_count": 7,
   "metadata": {},
   "outputs": [],
   "source": [
    "def color_hist(img,nbins=32,bins_range=(0,256)):\n",
    "    \n",
    "    channel1_hist=np.histogram(img[:,:,0],bins=nbins, range=bins_range)\n",
    "    channel2_hist=np.histogram(img[:,:,1],bins=nbins, range=bins_range)\n",
    "    channel3_hist=np.histogram(img[:,:,2],bins=nbins, range=bins_range)\n",
    "    \n",
    "    edges=channel1_hist[1]\n",
    "    hist_features=np.concatenate((channel1_hist[0],channel2_hist[0],channel3_hist[0]))\n",
    "    bin_centers = (edges[1:]+edges[0:len(edges)-1])/2\n",
    "    \n",
    "    \n",
    "    return hist_features\n",
    "    "
   ]
  },
  {
   "cell_type": "code",
   "execution_count": 9,
   "metadata": {},
   "outputs": [],
   "source": [
    "def color_hist1(img,nbins=32,bins_range=(0,256)):\n",
    "    \n",
    "    channel1_hist=np.histogram(img[:,:,0],bins=nbins, range=bins_range)\n",
    "    channel2_hist=np.histogram(img[:,:,1],bins=nbins, range=bins_range)\n",
    "    channel3_hist=np.histogram(img[:,:,2],bins=nbins, range=bins_range)\n",
    "    \n",
    "    edges=channel1_hist[1]\n",
    "    hist_features=np.concatenate((channel1_hist[0],channel2_hist[0],channel3_hist[0]))\n",
    "    bin_centers = (edges[1:]+edges[0:len(edges)-1])/2\n",
    "    #print(edges)\n",
    "    \n",
    "    return channel1_hist,channel2_hist,channel3_hist,bin_centers,hist_features\n",
    "    "
   ]
  },
  {
   "cell_type": "code",
   "execution_count": 13,
   "metadata": {},
   "outputs": [],
   "source": []
  },
  {
   "cell_type": "code",
   "execution_count": 10,
   "metadata": {},
   "outputs": [],
   "source": [
    "from mpl_toolkits.mplot3d import Axes3D\n",
    "\n",
    "def plot3d(pixels, colors_rgb,\n",
    "        axis_labels=list(\"RGB\"), axis_limits=((0, 255), (0, 255), (0, 255))):\n",
    "    \"\"\"Plot pixels in 3D.\"\"\"\n",
    "\n",
    "    # Create figure and 3D axes\n",
    "    fig = plt.figure(figsize=(8, 8))\n",
    "    ax = Axes3D(fig)\n",
    "\n",
    "    # Set axis limits\n",
    "    ax.set_xlim(*axis_limits[0])\n",
    "    ax.set_ylim(*axis_limits[1])\n",
    "    ax.set_zlim(*axis_limits[2])\n",
    "\n",
    "    # Set axis labels and sizes\n",
    "    ax.tick_params(axis='both', which='major', labelsize=14, pad=8)\n",
    "    ax.set_xlabel(axis_labels[0], fontsize=16, labelpad=16)\n",
    "    ax.set_ylabel(axis_labels[1], fontsize=16, labelpad=16)\n",
    "    ax.set_zlabel(axis_labels[2], fontsize=16, labelpad=16)\n",
    "\n",
    "    # Plot pixel values with colors given in colors_rgb\n",
    "    ax.scatter(\n",
    "        pixels[:, :, 0].ravel(),\n",
    "        pixels[:, :, 1].ravel(),\n",
    "        pixels[:, :, 2].ravel(),\n",
    "        c=colors_rgb.reshape((-1, 3)), edgecolors='none')\n",
    "\n",
    "    return ax  # return Axes3D object for further manipulation\n",
    "\n",
    "\n",
    "    "
   ]
  },
  {
   "cell_type": "code",
   "execution_count": null,
   "metadata": {},
   "outputs": [],
   "source": []
  }
 ],
 "metadata": {
  "kernelspec": {
   "display_name": "Python [conda env:carnd-term1]",
   "language": "python",
   "name": "conda-env-carnd-term1-py"
  },
  "language_info": {
   "codemirror_mode": {
    "name": "ipython",
    "version": 3
   },
   "file_extension": ".py",
   "mimetype": "text/x-python",
   "name": "python",
   "nbconvert_exporter": "python",
   "pygments_lexer": "ipython3",
   "version": "3.5.2"
  },
  "widgets": {
   "state": {},
   "version": "1.1.2"
  }
 },
 "nbformat": 4,
 "nbformat_minor": 2
}
